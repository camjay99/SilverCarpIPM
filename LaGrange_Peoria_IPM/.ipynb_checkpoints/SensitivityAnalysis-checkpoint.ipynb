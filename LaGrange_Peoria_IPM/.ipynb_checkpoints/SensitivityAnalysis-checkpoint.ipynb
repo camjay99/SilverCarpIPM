{
 "cells": [
  {
   "cell_type": "markdown",
   "id": "fluid-marketing",
   "metadata": {},
   "source": [
    "# Sensitivity Analysis of the Silver Carp Meta IPM"
   ]
  },
  {
   "cell_type": "markdown",
   "id": "afraid-picnic",
   "metadata": {},
   "source": [
    "## Imports and Load Data"
   ]
  },
  {
   "cell_type": "code",
   "execution_count": 1,
   "id": "jewish-situation",
   "metadata": {},
   "outputs": [],
   "source": [
    "import pandas as pd\n",
    "import numpy as np\n",
    "import sys, os\n",
    "import scipy.stats as stats\n",
    "import matplotlib.pyplot as plt\n",
    "import seaborn as sns\n",
    "from MetaIPM import network\n",
    "from MetaIPM import populated_network\n",
    "from MetaIPM import stochastic_wrapper as sw\n",
    "from MetaIPM import summarize_outputs as so\n",
    "from MetaIPM import recruitment\n",
    "data_file_path = \"./ModelData/\"\n",
    "import matplotlib as mpl\n",
    "import cycler"
   ]
  },
  {
   "cell_type": "code",
   "execution_count": 2,
   "id": "pressed-delight",
   "metadata": {},
   "outputs": [],
   "source": [
    "network_file = \"network.csv\"\n",
    "transition_probs = \"psi.csv\"\n",
    "transition_key = \"psi_key.csv\"\n",
    "node_file = \"node.csv\"\n",
    "group_file = \"group_details.csv\"\n",
    "lw_file = \"LW_Pool.csv\"\n",
    "vonB_file = \"vonB.csv\"\n",
    "vonB_sigma_file = \"vonB_sigma.csv\"\n",
    "maturity_file = \"maturity.csv\""
   ]
  },
  {
   "cell_type": "code",
   "execution_count": 3,
   "id": "corrected-cattle",
   "metadata": {},
   "outputs": [],
   "source": [
    "network_data = pd.read_csv(data_file_path + network_file)\n",
    "transition_data = pd.read_csv(data_file_path  + transition_probs)\n",
    "transition_key_data = pd.read_csv(data_file_path  + transition_key)\n",
    "node_data = pd.read_csv(data_file_path + node_file)\n",
    "group_data = pd.read_csv(data_file_path + group_file)\n",
    "lw_data = pd.read_csv(data_file_path + lw_file)\n",
    "vonB_data = pd.read_csv(data_file_path + vonB_file)\n",
    "vonB_sigma_data = pd.read_csv(data_file_path + vonB_sigma_file)\n",
    "maturity_data = pd.read_csv(data_file_path + maturity_file)"
   ]
  },
  {
   "cell_type": "markdown",
   "id": "acquired-coast",
   "metadata": {},
   "source": [
    "## Utility Functions for Creating and Running Models"
   ]
  },
  {
   "cell_type": "code",
   "execution_count": 4,
   "id": "affecting-stations",
   "metadata": {},
   "outputs": [],
   "source": [
    "def make_model():\n",
    "    deterministic_model = populated_network.populate_network_from_csv(\n",
    "        network_data = network_data,\n",
    "        transition_data = transition_data,\n",
    "        transition_key_data = transition_key_data,\n",
    "        node_data = node_data,\n",
    "        group_data = group_data,\n",
    "        lw_data = lw_data,\n",
    "        vonB_data = vonB_data,\n",
    "        vonB_sigma_data = vonB_sigma_data,\n",
    "        maturity_data = maturity_data,\n",
    "        stochastic_spawn = False,\n",
    "        stochastic_pars = False\n",
    "        ).show_network()\n",
    "    return deterministic_model"
   ]
  },
  {
   "cell_type": "code",
   "execution_count": 5,
   "id": "super-official",
   "metadata": {},
   "outputs": [],
   "source": [
    "def extract_population(deterministic_model):\n",
    "    out_all = so.extract_all_populations(deterministic_model)\n",
    "    out_all = out_all[out_all[\"Year\"] < out_all[\"Year\"].max()]\n",
    "\n",
    "    out_by_node = out_all.groupby(['Year','Month','Node'])[['Population']].sum().reset_index()\n",
    "    out_by_node[\"Months\"] = out_by_node[\"Month\"] + out_by_node[\"Year\"]\n",
    "    out_by_node = out_by_node[out_by_node[\"Month\"] == 0]\n",
    "    out_by_node['Years'] = out_by_node['Months']\n",
    "    \n",
    "    return out_by_node[['Years', 'Population', 'Node']]"
   ]
  },
  {
   "cell_type": "markdown",
   "id": "waiting-sending",
   "metadata": {},
   "source": [
    "## Sensitivity Analysis Test Function"
   ]
  },
  {
   "cell_type": "code",
   "execution_count": 29,
   "id": "clinical-visitor",
   "metadata": {},
   "outputs": [],
   "source": [
    "def run_with_parameter(frame, col, row, value):\n",
    "    '''\n",
    "    Creates and runs a model with a modified parameter values.\n",
    "\n",
    "    Parameters:\n",
    "    frame (DataFrame): The dataframe where the parameter is stored.\n",
    "    col (str):         The column containing the parameter.\n",
    "    row (int):         The row containing the parameter.\n",
    "    value (int):       The value to assign to the parameter.\n",
    "    \n",
    "    Returns:\n",
    "    (DataFrame): A dataframe where each row represents the population distribution for each group in each population for every year.\n",
    "    '''\n",
    "    \n",
    "    init = frame.loc[row, col]\n",
    "    frame.loc[row, col] = value\n",
    "    model = make_model()\n",
    "    model.project_network()\n",
    "    frame.loc[row, col] = init\n",
    "    \n",
    "    return extract_population(model)"
   ]
  },
  {
   "cell_type": "code",
   "execution_count": 86,
   "id": "characteristic-farming",
   "metadata": {},
   "outputs": [],
   "source": [
    "def calculate_sensitivity(frame, col, row, value, delta):\n",
    "    '''\n",
    "    Calculates the sensitivity of a parameter at the specified value \n",
    "    for each year the model is run.\n",
    "    Sensitivity is defined as the derivative of the growth rate with\n",
    "    respect to the parameter. The derivative is calculated \n",
    "    using the central differenences method.\n",
    "    \n",
    "    Parameters:\n",
    "    frame (DataFrame): The dataframe where the parameter is stored.\n",
    "    col (str):         The column containing the parameter.\n",
    "    row (int):         The row containing the parameter.\n",
    "    value (int):       The value to assign to the parameter.\n",
    "    delta (float):     Percent change to be used when calculating sensitivity.\n",
    "    \n",
    "    Returns:\n",
    "    (int): The sensitivity of the specified parameter at the specified value.\n",
    "    '''\n",
    "    \n",
    "    # Calculate with lower parameter\n",
    "    ## Run model with lower parameter\n",
    "    lower = run_with_parameter(frame, col, row, value*(1-delta))\n",
    "    ## Calculate total yearly population for each pool\n",
    "    l_a = (lower[lower['Node'] == 'a'])['Population']\n",
    "    l_a = l_a[1:].values - l_a[:-1].values\n",
    "    l_b = (lower[lower['Node'] == 'b'])['Population']\n",
    "    l_b = l_b[1:].values - l_b[:-1].values\n",
    "\n",
    "    # Calculate with lower parameter\n",
    "    upper = run_with_parameter(frame, col, row, value*(1+delta))\n",
    "    u_a = (upper[upper['Node'] == 'a'])['Population']\n",
    "    u_a = u_a[1:].values - u_a[:-1].values\n",
    "    u_b = (upper[upper['Node'] == 'b'])['Population']\n",
    "    u_b = u_b[1:].values - u_b[:-1].values \n",
    "    \n",
    "    # Calculate sensitivities\n",
    "    S_a = (u_a - l_a)/(2*delta*value)\n",
    "    S_b = (u_b - l_b)/(2*delta*value)\n",
    "    \n",
    "    return S_a, S_b"
   ]
  },
  {
   "cell_type": "code",
   "execution_count": 89,
   "id": "integrated-marathon",
   "metadata": {},
   "outputs": [],
   "source": [
    "S_a, S_b = calculate_sensitivity(vonB_sigma_data, 'sd', 0, 40, .01)"
   ]
  },
  {
   "cell_type": "code",
   "execution_count": 90,
   "id": "southern-attempt",
   "metadata": {},
   "outputs": [
    {
     "data": {
      "text/plain": [
       "[<matplotlib.lines.Line2D at 0x1d425a955c8>]"
      ]
     },
     "execution_count": 90,
     "metadata": {},
     "output_type": "execute_result"
    },
    {
     "data": {
      "image/png": "[encoded data removed]",
      "text/plain": [
       "<Figure size 432x288 with 1 Axes>"
      ]
     },
     "metadata": {},
     "output_type": "display_data"
    }
   ],
   "source": [
    "plt.plot(range(74), S_a)\n",
    "plt.plot(range(74), S_b)"
   ]
  },
  {
   "cell_type": "code",
   "execution_count": null,
   "id": "remarkable-sapphire",
   "metadata": {},
   "outputs": [],
   "source": []
  }
 ],
 "metadata": {
  "kernelspec": {
   "display_name": "Python 3",
   "language": "python",
   "name": "python3"
  },
  "language_info": {
   "codemirror_mode": {
    "name": "ipython",
    "version": 3
   },
   "file_extension": ".py",
   "mimetype": "text/x-python",
   "name": "python",
   "nbconvert_exporter": "python",
   "pygments_lexer": "ipython3",
   "version": "3.7.6"
  }
 },
 "nbformat": 4,
 "nbformat_minor": 5
}
