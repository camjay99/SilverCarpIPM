{
 "cells": [
  {
   "cell_type": "markdown",
   "id": "8a6b1984-0b48-49b1-8dfd-2749d80c626d",
   "metadata": {},
   "source": [
    "# Testing stuff for markov utility"
   ]
  },
  {
   "cell_type": "code",
   "execution_count": 20,
   "id": "61eeee49-e56a-49b2-8dff-9d1d6dfbb0c1",
   "metadata": {},
   "outputs": [],
   "source": [
    "import pandas as pd\n",
    "import numpy as np\n",
    "\n",
    "data_file_path = \"./ModelData/\"\n",
    "transition_probs = \"psi.csv\"\n",
    "transition_key = \"psi_key.csv\"\n",
    "transition_data = pd.read_csv(data_file_path  + transition_probs)\n",
    "transition_key_data = pd.read_csv(data_file_path  + transition_key)"
   ]
  },
  {
   "cell_type": "code",
   "execution_count": 3,
   "id": "59641aa5-43ba-47f2-8470-4f64d52da1b4",
   "metadata": {},
   "outputs": [
    {
     "data": {
      "text/html": [
       "<div>\n",
       "<style scoped>\n",
       "    .dataframe tbody tr th:only-of-type {\n",
       "        vertical-align: middle;\n",
       "    }\n",
       "\n",
       "    .dataframe tbody tr th {\n",
       "        vertical-align: top;\n",
       "    }\n",
       "\n",
       "    .dataframe thead th {\n",
       "        text-align: right;\n",
       "    }\n",
       "</style>\n",
       "<table border=\"1\" class=\"dataframe\">\n",
       "  <thead>\n",
       "    <tr style=\"text-align: right;\">\n",
       "      <th></th>\n",
       "      <th>Unnamed: 0</th>\n",
       "      <th>ab</th>\n",
       "      <th>ba</th>\n",
       "    </tr>\n",
       "  </thead>\n",
       "  <tbody>\n",
       "    <tr>\n",
       "      <th>0</th>\n",
       "      <td>0</td>\n",
       "      <td>0.2777</td>\n",
       "      <td>0.1948</td>\n",
       "    </tr>\n",
       "  </tbody>\n",
       "</table>\n",
       "</div>"
      ],
      "text/plain": [
       "   Unnamed: 0      ab      ba\n",
       "0           0  0.2777  0.1948"
      ]
     },
     "execution_count": 3,
     "metadata": {},
     "output_type": "execute_result"
    }
   ],
   "source": [
    "transition_data"
   ]
  },
  {
   "cell_type": "code",
   "execution_count": 4,
   "id": "71c1cda2-aebd-45f2-b3d2-bacab83e108c",
   "metadata": {},
   "outputs": [
    {
     "data": {
      "text/html": [
       "<div>\n",
       "<style scoped>\n",
       "    .dataframe tbody tr th:only-of-type {\n",
       "        vertical-align: middle;\n",
       "    }\n",
       "\n",
       "    .dataframe tbody tr th {\n",
       "        vertical-align: top;\n",
       "    }\n",
       "\n",
       "    .dataframe thead th {\n",
       "        text-align: right;\n",
       "    }\n",
       "</style>\n",
       "<table border=\"1\" class=\"dataframe\">\n",
       "  <thead>\n",
       "    <tr style=\"text-align: right;\">\n",
       "      <th></th>\n",
       "      <th>Unnamed: 0</th>\n",
       "      <th>column</th>\n",
       "      <th>start</th>\n",
       "      <th>end</th>\n",
       "    </tr>\n",
       "  </thead>\n",
       "  <tbody>\n",
       "    <tr>\n",
       "      <th>0</th>\n",
       "      <td>0</td>\n",
       "      <td>ab</td>\n",
       "      <td>a</td>\n",
       "      <td>b</td>\n",
       "    </tr>\n",
       "    <tr>\n",
       "      <th>1</th>\n",
       "      <td>1</td>\n",
       "      <td>ba</td>\n",
       "      <td>b</td>\n",
       "      <td>a</td>\n",
       "    </tr>\n",
       "  </tbody>\n",
       "</table>\n",
       "</div>"
      ],
      "text/plain": [
       "   Unnamed: 0 column start end\n",
       "0           0     ab     a   b\n",
       "1           1     ba     b   a"
      ]
     },
     "execution_count": 4,
     "metadata": {},
     "output_type": "execute_result"
    }
   ],
   "source": [
    "transition_key_data"
   ]
  },
  {
   "cell_type": "code",
   "execution_count": 82,
   "id": "5173e380-618b-4869-802e-2857628f5666",
   "metadata": {},
   "outputs": [],
   "source": [
    "n_periods = 12\n",
    "\n",
    "transition_data_transposed = transition_data.transpose()\n",
    "transition_data_transposed = transition_data.transpose()\n",
    "transition_data_transposed.index.name = 'column'\n",
    "transition_data_transposed.reset_index(\n",
    "            inplace=True)\n",
    "\n",
    "transition_data_use = pd.merge(\n",
    "    transition_key_data,\n",
    "    transition_data_transposed,\n",
    "    on=\"column\")\n",
    "    \n",
    "    # Set up reference for indices associated with names in transition matrix\n",
    "reference = list(set(transition_data_use['start'].unique()) | \n",
    "                     set(transition_data_use['end'].unique()))\n",
    "    \n",
    "    # Initialize the transition matrix\n",
    "transition = np.zeros((len(reference), len(reference)))\n",
    "    \n",
    "    # Add entries to transtion matrix:\n",
    "for index, row in transition_data_use.iterrows():\n",
    "    start = reference.index(row['start'])\n",
    "    end = reference.index(row['end'])\n",
    "    transition[start, end] = row[0]\n",
    "    \n",
    "for row in range(len(transition)):\n",
    "    transition[row, row] = 1 - transition[row].sum()\n",
    "    \n",
    "n_transition = np.linalg.matrix_power(transition, n_periods)\n",
    "\n",
    "result = pd.DataFrame(columns=['start','end','prob'])\n",
    "\n",
    "for m in range(len(n_transition)):\n",
    "    for n in range(len(n_transition)):\n",
    "        if m == n:\n",
    "            continue\n",
    "        if n_transition[m, n] == 0:\n",
    "            continue\n",
    "        new_row = pd.Series(data={'start':reference[m], 'end':reference[n], 'prob':n_transition[m, n]})\n",
    "        result = result.append(new_row, ignore_index=True)\n",
    "\n",
    "        \n",
    "new_routes = [row['start'] + '-' + row['end'] for index, row in result.iterrows()]\n",
    "result = result.assign(routes=new_routes)\n",
    "\n",
    "new_keys = result[['routes', 'start', 'end']]\n",
    "new_probs = pd.DataFrame(data = [list(result['prob'])], columns = result['routes'])"
   ]
  },
  {
   "cell_type": "code",
   "execution_count": 83,
   "id": "9c0e8cff-5c19-46e3-8bda-00561cdea12f",
   "metadata": {},
   "outputs": [
    {
     "data": {
      "text/html": [
       "<div>\n",
       "<style scoped>\n",
       "    .dataframe tbody tr th:only-of-type {\n",
       "        vertical-align: middle;\n",
       "    }\n",
       "\n",
       "    .dataframe tbody tr th {\n",
       "        vertical-align: top;\n",
       "    }\n",
       "\n",
       "    .dataframe thead th {\n",
       "        text-align: right;\n",
       "    }\n",
       "</style>\n",
       "<table border=\"1\" class=\"dataframe\">\n",
       "  <thead>\n",
       "    <tr style=\"text-align: right;\">\n",
       "      <th></th>\n",
       "      <th>routes</th>\n",
       "      <th>start</th>\n",
       "      <th>end</th>\n",
       "    </tr>\n",
       "  </thead>\n",
       "  <tbody>\n",
       "    <tr>\n",
       "      <th>0</th>\n",
       "      <td>b-a</td>\n",
       "      <td>b</td>\n",
       "      <td>a</td>\n",
       "    </tr>\n",
       "    <tr>\n",
       "      <th>1</th>\n",
       "      <td>a-b</td>\n",
       "      <td>a</td>\n",
       "      <td>b</td>\n",
       "    </tr>\n",
       "  </tbody>\n",
       "</table>\n",
       "</div>"
      ],
      "text/plain": [
       "  routes start end\n",
       "0    b-a     b   a\n",
       "1    a-b     a   b"
      ]
     },
     "execution_count": 83,
     "metadata": {},
     "output_type": "execute_result"
    }
   ],
   "source": [
    "new_keys"
   ]
  },
  {
   "cell_type": "code",
   "execution_count": 84,
   "id": "85be175b-c1a0-4e12-bda9-1c261a580739",
   "metadata": {},
   "outputs": [
    {
     "data": {
      "text/html": [
       "<div>\n",
       "<style scoped>\n",
       "    .dataframe tbody tr th:only-of-type {\n",
       "        vertical-align: middle;\n",
       "    }\n",
       "\n",
       "    .dataframe tbody tr th {\n",
       "        vertical-align: top;\n",
       "    }\n",
       "\n",
       "    .dataframe thead th {\n",
       "        text-align: right;\n",
       "    }\n",
       "</style>\n",
       "<table border=\"1\" class=\"dataframe\">\n",
       "  <thead>\n",
       "    <tr style=\"text-align: right;\">\n",
       "      <th>routes</th>\n",
       "      <th>b-a</th>\n",
       "      <th>a-b</th>\n",
       "    </tr>\n",
       "  </thead>\n",
       "  <tbody>\n",
       "    <tr>\n",
       "      <th>0</th>\n",
       "      <td>0.412084</td>\n",
       "      <td>0.587452</td>\n",
       "    </tr>\n",
       "  </tbody>\n",
       "</table>\n",
       "</div>"
      ],
      "text/plain": [
       "routes       b-a       a-b\n",
       "0       0.412084  0.587452"
      ]
     },
     "execution_count": 84,
     "metadata": {},
     "output_type": "execute_result"
    }
   ],
   "source": [
    "new_probs"
   ]
  },
  {
   "cell_type": "code",
   "execution_count": 80,
   "id": "f64db8c5-a449-4498-8b2f-c79f888ff6f6",
   "metadata": {},
   "outputs": [],
   "source": [
    "new_probs = pd.DataFrame(data = [list(result['prob'])], columns = result['routes'])"
   ]
  },
  {
   "cell_type": "code",
   "execution_count": 81,
   "id": "04539ab4-1153-4745-aca0-a556582f6233",
   "metadata": {},
   "outputs": [
    {
     "data": {
      "text/html": [
       "<div>\n",
       "<style scoped>\n",
       "    .dataframe tbody tr th:only-of-type {\n",
       "        vertical-align: middle;\n",
       "    }\n",
       "\n",
       "    .dataframe tbody tr th {\n",
       "        vertical-align: top;\n",
       "    }\n",
       "\n",
       "    .dataframe thead th {\n",
       "        text-align: right;\n",
       "    }\n",
       "</style>\n",
       "<table border=\"1\" class=\"dataframe\">\n",
       "  <thead>\n",
       "    <tr style=\"text-align: right;\">\n",
       "      <th>routes</th>\n",
       "      <th>b-a</th>\n",
       "      <th>a-b</th>\n",
       "    </tr>\n",
       "  </thead>\n",
       "  <tbody>\n",
       "    <tr>\n",
       "      <th>0</th>\n",
       "      <td>0.412084</td>\n",
       "      <td>0.587452</td>\n",
       "    </tr>\n",
       "  </tbody>\n",
       "</table>\n",
       "</div>"
      ],
      "text/plain": [
       "routes       b-a       a-b\n",
       "0       0.412084  0.587452"
      ]
     },
     "execution_count": 81,
     "metadata": {},
     "output_type": "execute_result"
    }
   ],
   "source": [
    "new_probs"
   ]
  },
  {
   "cell_type": "code",
   "execution_count": 23,
   "id": "d2a30f59-7e12-4146-a774-ae14ff5cab64",
   "metadata": {},
   "outputs": [],
   "source": [
    "transition = np.zeros((2,2))"
   ]
  },
  {
   "cell_type": "code",
   "execution_count": 24,
   "id": "7a9358a6-50ca-41d4-b313-25ee9ec54aee",
   "metadata": {},
   "outputs": [
    {
     "data": {
      "text/plain": [
       "array([[0., 0.],\n",
       "       [0., 0.]])"
      ]
     },
     "execution_count": 24,
     "metadata": {},
     "output_type": "execute_result"
    }
   ],
   "source": [
    "transition"
   ]
  },
  {
   "cell_type": "code",
   "execution_count": null,
   "id": "270cf4fd-a27f-43a0-89cc-c18f12984a5b",
   "metadata": {},
   "outputs": [],
   "source": []
  }
 ],
 "metadata": {
  "kernelspec": {
   "display_name": "Python 3",
   "language": "python",
   "name": "python3"
  },
  "language_info": {
   "codemirror_mode": {
    "name": "ipython",
    "version": 3
   },
   "file_extension": ".py",
   "mimetype": "text/x-python",
   "name": "python",
   "nbconvert_exporter": "python",
   "pygments_lexer": "ipython3",
   "version": "3.7.6"
  }
 },
 "nbformat": 4,
 "nbformat_minor": 5
}
