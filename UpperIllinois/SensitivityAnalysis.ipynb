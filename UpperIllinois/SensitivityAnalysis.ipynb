{
 "cells": [
  {
   "cell_type": "code",
   "execution_count": 10,
   "id": "bf3519ac-99c7-4d34-aedd-6433356917b4",
   "metadata": {},
   "outputs": [],
   "source": [
    "import pandas as pd\n",
    "import numpy as np\n",
    "import sys, os\n",
    "import scipy.stats as stats\n",
    "import matplotlib.pyplot as plt\n",
    "import seaborn as sns\n",
    "from MetaIPM import network\n",
    "from MetaIPM import populated_network\n",
    "from MetaIPM import stochastic_wrapper as sw\n",
    "from MetaIPM import summarize_outputs as so\n",
    "from MetaIPM import recruitment\n",
    "data_file_path = \"./ModelData/\"\n",
    "import matplotlib as mpl\n",
    "import cycler\n",
    "\n",
    "graphics = \"./Graphics/\""
   ]
  },
  {
   "cell_type": "code",
   "execution_count": 11,
   "id": "487a4765-97c6-426a-9acc-f526fcfd1a63",
   "metadata": {},
   "outputs": [],
   "source": [
    "network_file = \"network.csv\"\n",
    "transition_probs = \"psi2.csv\"\n",
    "transition_key = \"psi_key2.csv\"\n",
    "node_file = \"node.csv\"\n",
    "group_file = \"group_details.csv\"\n",
    "lw_file = \"LW_Pool.csv\"\n",
    "vonB_file = \"vonB.csv\"\n",
    "vonB_sigma_file = \"vonB_sigma.csv\"\n",
    "maturity_file = \"maturity.csv\""
   ]
  },
  {
   "cell_type": "code",
   "execution_count": 12,
   "id": "4f20c626-530e-4215-9f52-585efe1332ac",
   "metadata": {},
   "outputs": [],
   "source": [
    "network_data = pd.read_csv(data_file_path + network_file)\n",
    "transition_data = pd.read_csv(data_file_path  + transition_probs)\n",
    "transition_key_data = pd.read_csv(data_file_path  + transition_key)\n",
    "node_data = pd.read_csv(data_file_path + node_file)\n",
    "group_data = pd.read_csv(data_file_path + group_file)\n",
    "lw_data = pd.read_csv(data_file_path + lw_file)\n",
    "vonB_data = pd.read_csv(data_file_path + vonB_file)\n",
    "vonB_sigma_data = pd.read_csv(data_file_path + vonB_sigma_file)\n",
    "maturity_data = pd.read_csv(data_file_path + maturity_file)"
   ]
  },
  {
   "cell_type": "code",
   "execution_count": 13,
   "id": "5a608727-e636-4691-ad00-5b7503f68351",
   "metadata": {},
   "outputs": [],
   "source": [
    "def make_model():\n",
    "    '''\n",
    "    Creates a model using the global parameter dataframes.\n",
    "    \n",
    "    Returns:\n",
    "    (populated_network): A network representing the model described in the global parameter dataframes\n",
    "    '''\n",
    "    deterministic_model = populated_network.populate_network_from_csv(\n",
    "        network_data = network_data,\n",
    "        transition_data = transition_data,\n",
    "        transition_key_data = transition_key_data,\n",
    "        node_data = node_data,\n",
    "        group_data = group_data,\n",
    "        lw_data = lw_data,\n",
    "        vonB_data = vonB_data,\n",
    "        vonB_sigma_data = vonB_sigma_data,\n",
    "        maturity_data = maturity_data,\n",
    "        stochastic_spawn = False,\n",
    "        stochastic_pars = False\n",
    "        ).show_network()\n",
    "    return deterministic_model"
   ]
  },
  {
   "cell_type": "code",
   "execution_count": 14,
   "id": "d1447a2a-8779-4cdc-a98a-9b76fd583d16",
   "metadata": {},
   "outputs": [],
   "source": [
    "def extract_population(model):\n",
    "    '''\n",
    "    Extracts the populations counts for each year and node from a model\n",
    "    \n",
    "    Parameters:\n",
    "    model (populated_network): Network to extract population counts from\n",
    "    \n",
    "    Returns:\n",
    "    (DataFrame): Table containing year, population, and node.\n",
    "    '''\n",
    "    out_all = so.extract_all_populations(model)\n",
    "    out_all = out_all[out_all[\"Year\"] < out_all[\"Year\"].max()]\n",
    "\n",
    "    out_by_node = out_all.groupby(['Year','Month','Node'])[['Population']].sum().reset_index()\n",
    "    out_by_node[\"Months\"] = out_by_node[\"Month\"] + out_by_node[\"Year\"]\n",
    "    out_by_node = out_by_node[out_by_node[\"Month\"] == 0]\n",
    "    out_by_node['Years'] = out_by_node['Months']\n",
    "    \n",
    "    return out_by_node[['Years', 'Population', 'Node']]"
   ]
  },
  {
   "cell_type": "code",
   "execution_count": 15,
   "id": "e26abb3b-8eee-448d-9ae3-30484b803c2a",
   "metadata": {},
   "outputs": [],
   "source": [
    "def run_with_parameter(frame, col, row, value):\n",
    "    '''\n",
    "    Creates and runs a model with a modified parameter values.\n",
    "\n",
    "    Parameters:\n",
    "    frame (DataFrame): The dataframe where the parameter is stored.\n",
    "    col (str):         The column containing the parameter.\n",
    "    row (int):         The row containing the parameter.\n",
    "    value (int):       The value to assign to the parameter.\n",
    "    \n",
    "    Returns:\n",
    "    (DataFrame): A dataframe where each row represents the population distribution for each group in each population for every year.\n",
    "    '''\n",
    "    \n",
    "    init = frame.loc[row, col]\n",
    "    frame.loc[row, col] = value\n",
    "    model = make_model()\n",
    "    model.project_network()\n",
    "    frame.loc[row, col] = init\n",
    "    \n",
    "    return extract_population(model)"
   ]
  },
  {
   "cell_type": "code",
   "execution_count": 16,
   "id": "4ca88ed6-ef36-4e82-8f96-54285d5b88cb",
   "metadata": {},
   "outputs": [],
   "source": [
    "def calculate_sensitivity(frame, col, row, value, delta):\n",
    "    '''\n",
    "    Calculates the sensitivity of a parameter at the specified value \n",
    "    for each year the model is run.\n",
    "    Sensitivity is defined as the derivative of the growth rate with\n",
    "    respect to the parameter. The derivative is calculated \n",
    "    using the central differenences method.\n",
    "    \n",
    "    Parameters:\n",
    "    frame (DataFrame): The dataframe where the parameter is stored.\n",
    "    col (str):         The column containing the parameter.\n",
    "    row (int):         The row containing the parameter.\n",
    "    value (int):       The value to assign to the parameter.\n",
    "    delta (float):     Percent change to be used when calculating sensitivity.\n",
    "    \n",
    "    Returns:\n",
    "    (int): The sensitivity of the specified parameter at the specified value.\n",
    "    '''\n",
    "    \n",
    "    # Calculate with lower parameter\n",
    "    ## Run model with lower parameter\n",
    "    lower = run_with_parameter(frame, col, row, value*(1-delta))\n",
    "    ## Calculate total yearly population for each pool\n",
    "    l_a = (lower[lower['Node'] == 'a'])['Population']\n",
    "    l_a = l_a[1:].values / l_a[:-1].values\n",
    "    l_b = (lower[lower['Node'] == 'b'])['Population']\n",
    "    l_b = l_b[1:].values / l_b[:-1].values\n",
    "    l_c = (lower[lower['Node'] == 'c'])['Population']\n",
    "    l_c = l_c[1:].values / l_c[:-1].values\n",
    "\n",
    "    no_change = run_with_parameter(frame, col, row, value)\n",
    "    ## Calculate total yearly population for each pool\n",
    "    n_a = (no_change[no_change['Node'] == 'a'])['Population']\n",
    "    n_a = n_a[1:].values / n_a[:-1].values\n",
    "    n_b = (no_change[no_change['Node'] == 'b'])['Population']\n",
    "    n_b = n_b[1:].values / n_b[:-1].values\n",
    "    n_c = (no_change[no_change['Node'] == 'c'])['Population']\n",
    "    n_c = n_c[1:].values / n_c[:-1].values\n",
    "    \n",
    "    # Calculate with upper parameter\n",
    "    ## Run model with upper parameter\n",
    "    upper = run_with_parameter(frame, col, row, value*(1+delta))\n",
    "    u_a = (upper[upper['Node'] == 'a'])['Population']\n",
    "    u_a = u_a[1:].values / u_a[:-1].values\n",
    "    u_b = (upper[upper['Node'] == 'b'])['Population']\n",
    "    u_b = u_b[1:].values / u_b[:-1].values \n",
    "    u_c = (upper[upper['Node'] == 'c'])['Population']\n",
    "    u_c = u_c[1:].values / u_c[:-1].values \n",
    "    \n",
    "    # Calculate sensitivities\n",
    "    S_a = (u_a - l_a)/(2*delta*value)\n",
    "    S_b = (u_b - l_b)/(2*delta*value)\n",
    "    S_c = (u_c - l_c)/(2*delta*value)\n",
    "    \n",
    "    return S_a, S_b, S_c, l_a, l_b, l_c, n_a, n_b, n_c, u_a, u_b, u_c"
   ]
  },
  {
   "cell_type": "code",
   "execution_count": 17,
   "id": "d5420f31-b4b1-4ecb-a876-0b692e1285cd",
   "metadata": {},
   "outputs": [],
   "source": [
    "def calculate_sensitivities(frame, col, row, values, delta):\n",
    "    sens_a = []\n",
    "    sens_b = []\n",
    "    sens_c = []\n",
    "    for value in values:\n",
    "        S_a, S_b, S_c, _, _, _, _, _, _, _, _, _ = calculate_sensitivity(frame, col, row, value, delta)\n",
    "        sens_a.append(S_a)\n",
    "        sens_b.append(S_b)\n",
    "        sens_c.append(S_c)\n",
    "    return sens_a, sens_b, sens_c"
   ]
  },
  {
   "cell_type": "code",
   "execution_count": 23,
   "id": "0a08d950-f7d3-45b1-899f-996718a6325a",
   "metadata": {},
   "outputs": [],
   "source": [
    "def graph_results(sens_a, sens_b, sens_c, param, values, start_at=0, filename=None):\n",
    "    # Set up colormap\n",
    "    n = len(sens_a)\n",
    "    color = plt.cm.viridis(np.linspace(0.1,0.9,n)) # This returns RGBA; convert:\n",
    "    mpl.rcParams['axes.prop_cycle'] = cycler.cycler('color', color)\n",
    "    plt.style.use('seaborn-whitegrid')\n",
    "    \n",
    "    # Set up subplots\n",
    "    fig, axs = plt.subplots(1, 3, sharey=True,\n",
    "                           subplot_kw={'box_aspect':1},\n",
    "                           gridspec_kw={'wspace':0.05})\n",
    "    \n",
    "    \n",
    "    # Plot nodes\n",
    "    \n",
    "    ## Starved Rock\n",
    "    plt.sca(axs[0])\n",
    "    for i in range(len(sens_c)):\n",
    "        S_c = sens_c[i]\n",
    "        plt.plot(range(start_at, len(S_c)), S_c[start_at:], label=values[i])\n",
    "    plt.title('Starved Rock', fontsize=15)\n",
    "    plt.xlabel('Years', fontsize=15)\n",
    "    plt.ylabel(r'Sensitivity of $\\lambda$', fontsize=15)\n",
    "    \n",
    "    ## Marseilles\n",
    "    plt.sca(axs[1])\n",
    "    for S_b in sens_b:\n",
    "        plt.plot(range(start_at, len(S_b)), S_b[start_at:])\n",
    "    plt.title('Marseilles', fontsize=15)\n",
    "    plt.xlabel('Years', fontsize=15)\n",
    "    axs[1].label_outer()\n",
    "\n",
    "    ## Dresden Island\n",
    "    plt.sca(axs[2])\n",
    "    for i in range(len(sens_a)):\n",
    "        S_a = sens_a[i]\n",
    "        plt.plot(range(start_at, len(S_a)), S_a[start_at:])\n",
    "    plt.title('Dresden Island', fontsize=15)\n",
    "    plt.xlabel('Years', fontsize=15)\n",
    "    plt.ylabel(r'Sensitivity of $\\lambda$', fontsize=15)\n",
    "    \n",
    "    plt.subplots_adjust(top=1, right=0.8)\n",
    "    fig.legend(frameon=True, loc='center right', title=param)\n",
    "    if filename != None:\n",
    "        plt.savefig(f'{graphics}/{filename}.svg', bbox_inches='tight')\n",
    "    \n",
    "    plt.show()"
   ]
  },
  {
   "cell_type": "markdown",
   "id": "448224e7-2987-4cf0-b5a8-0fa3650eae39",
   "metadata": {},
   "source": [
    "## $L_{\\infty L}$"
   ]
  },
  {
   "cell_type": "code",
   "execution_count": 24,
   "id": "95fbe146-0528-49be-8d5d-640f923a2150",
   "metadata": {},
   "outputs": [
    {
     "name": "stderr",
     "output_type": "stream",
     "text": [
      "C:\\Users\\Cameron\\anaconda3\\lib\\site-packages\\metaipm_rerickson_usgs-1.0.0-py3.7.egg\\MetaIPM\\network.py:173: FutureWarning: Dropping of nuisance columns in DataFrame reductions (with 'numeric_only=None') is deprecated; in a future version this will raise TypeError.  Select only valid columns before calling the reduction.\n",
      "C:\\Users\\Cameron\\anaconda3\\lib\\site-packages\\metaipm_rerickson_usgs-1.0.0-py3.7.egg\\MetaIPM\\node.py:104: FutureWarning: Dropping of nuisance columns in DataFrame reductions (with 'numeric_only=None') is deprecated; in a future version this will raise TypeError.  Select only valid columns before calling the reduction.\n"
     ]
    },
    {
     "data": {
      "image/png": "[encoded data removed]",
      "text/plain": [
       "<Figure size 432x288 with 3 Axes>"
      ]
     },
     "metadata": {},
     "output_type": "display_data"
    }
   ],
   "source": [
    "values = [591, 641, 691, 741, 791]\n",
    "table = vonB_data\n",
    "col = 'V1'\n",
    "row = 0\n",
    "name = r'$L_{\\infty L}$'\n",
    "\n",
    "sens_a, sens_b, sens_c = calculate_sensitivities(table, col, row, values, .01)\n",
    "graph_results(sens_a, sens_b, sens_c, name, values, start_at=10, filename='l_inf_sensitivity')"
   ]
  },
  {
   "cell_type": "markdown",
   "id": "424540f1-5c0e-4ed1-aea7-19d45a592619",
   "metadata": {},
   "source": [
    "## $K_G$"
   ]
  },
  {
   "cell_type": "code",
   "execution_count": null,
   "id": "eb7a7429-0735-4f72-9a17-3d913d5e837e",
   "metadata": {},
   "outputs": [],
   "source": [
    "values = [0.656, 0.706, 0.756, 0.806, 0.856]\n",
    "table = vonB_data\n",
    "col = 'V1'\n",
    "row = 1\n",
    "name = r'$K_G$'\n",
    "\n",
    "sens_a, sens_b, sens_c = calculate_sensitivities(table, col, row, values, .01)\n",
    "graph_results(sens_a, sens_b, sens_c, name, values, start_at=10, filename='k_sensitivity')"
   ]
  },
  {
   "cell_type": "markdown",
   "id": "68d518c5-7d6a-4e78-b7af-c4c57e1cbfed",
   "metadata": {},
   "source": [
    "## $\\sigma_G$"
   ]
  },
  {
   "cell_type": "code",
   "execution_count": null,
   "id": "4a127574-59f1-4698-b31c-da65c09edc3e",
   "metadata": {},
   "outputs": [],
   "source": [
    "values = [20, 40, 60, 80, 100]\n",
    "table = vonB_sigma_data\n",
    "col = 'sd'\n",
    "row = 0\n",
    "name = '$\\sigma_G$'\n",
    "\n",
    "sens_a, sens_b, sens_c = calculate_sensitivities(table, col, row, values, .01)\n",
    "graph_results(sens_a, sens_b, sens_c, name, values, start_at=10, filename='growth_sd_sensitivity')"
   ]
  },
  {
   "cell_type": "markdown",
   "id": "e3c658dc-3a8a-4bb6-be76-20b4bc9fbdcc",
   "metadata": {},
   "source": [
    "## $g_a$"
   ]
  },
  {
   "cell_type": "code",
   "execution_count": null,
   "id": "ef13865b-4c28-4b86-a484-ba732759f1be",
   "metadata": {},
   "outputs": [],
   "source": [
    "values = [10**-8, 10**-7, 10**-6, 10**-5, 10**-4]\n",
    "table = vonB_data\n",
    "col = 'V1'\n",
    "row = \n",
    "name = '$\\sigma_G$'\n",
    "\n",
    "sens_a, sens_b, sens_c = calculate_sensitivities(table, col, row, values, .01)\n",
    "graph_results(sens_a, sens_b, sens_c, name, values, start_at=10, filename='growth_sd_sensitivity')"
   ]
  },
  {
   "cell_type": "markdown",
   "id": "592d0c0a-3e12-45fd-8739-84a19c1bee6c",
   "metadata": {},
   "source": [
    "## $g_b$"
   ]
  },
  {
   "cell_type": "code",
   "execution_count": null,
   "id": "2145e690-73b6-4bd4-aab9-ac53fa100dcc",
   "metadata": {},
   "outputs": [],
   "source": [
    "values = [591, 641, 691, 741, 791]\n",
    "table = vonB_sigma_data\n",
    "col = 'sd'\n",
    "row = 0\n",
    "name = '$\\sigma_G$'\n",
    "\n",
    "sens_a, sens_b, sens_c = calculate_sensitivities(table, col, row, values, .01)\n",
    "graph_results(sens_a, sens_b, sens_c, name, values, start_at=10, filename='growth_sd_sensitivity')"
   ]
  },
  {
   "cell_type": "markdown",
   "id": "8bff5ed3-4fe5-4e18-80e5-a2226c063b63",
   "metadata": {},
   "source": [
    "## $g_c$"
   ]
  },
  {
   "cell_type": "code",
   "execution_count": null,
   "id": "1525e7be-605d-4960-a555-9dad21ce82b4",
   "metadata": {},
   "outputs": [],
   "source": [
    "values = [591, 641, 691, 741, 791]\n",
    "table = vonB_sigma_data\n",
    "col = 'sd'\n",
    "row = 0\n",
    "name = '$\\sigma_G$'\n",
    "\n",
    "sens_a, sens_b, sens_c = calculate_sensitivities(table, col, row, values, .01)\n",
    "graph_results(sens_a, sens_b, sens_c, name, values, start_at=10, filename='growth_sd_sensitivity')"
   ]
  },
  {
   "cell_type": "markdown",
   "id": "3b587d45-8740-479b-83b1-f18e4f45eab8",
   "metadata": {},
   "source": [
    "## $s_{min}$"
   ]
  },
  {
   "cell_type": "code",
   "execution_count": null,
   "id": "db1ffc78-2f7c-4cce-bc5e-1abd392dac0e",
   "metadata": {},
   "outputs": [],
   "source": [
    "values = [591, 641, 691, 741, 791]\n",
    "table = vonB_sigma_data\n",
    "col = 'sd'\n",
    "row = 0\n",
    "name = '$\\sigma_G$'\n",
    "\n",
    "sens_a, sens_b, sens_c = calculate_sensitivities(table, col, row, values, .01)\n",
    "graph_results(sens_a, sens_b, sens_c, name, values, start_at=10, filename='growth_sd_sensitivity')"
   ]
  },
  {
   "cell_type": "markdown",
   "id": "b891a05e-cdce-4cd5-a1ae-b522470beb7c",
   "metadata": {},
   "source": [
    "## $s_{max}$"
   ]
  },
  {
   "cell_type": "code",
   "execution_count": null,
   "id": "6b053ea2-2541-4253-a8cb-839568c2b9bc",
   "metadata": {},
   "outputs": [],
   "source": [
    "values = [591, 641, 691, 741, 791]\n",
    "table = vonB_sigma_data\n",
    "col = 'sd'\n",
    "row = 0\n",
    "name = '$\\sigma_G$'\n",
    "\n",
    "sens_a, sens_b, sens_c = calculate_sensitivities(table, col, row, values, .01)\n",
    "graph_results(sens_a, sens_b, sens_c, name, values, start_at=10, filename='growth_sd_sensitivity')"
   ]
  },
  {
   "cell_type": "markdown",
   "id": "52b4b614-f578-435c-9a89-6922339a61c4",
   "metadata": {},
   "source": [
    "## $\\alpha_s$"
   ]
  },
  {
   "cell_type": "code",
   "execution_count": null,
   "id": "e5f380b0-9abf-4fdd-a76b-73f15fb3a7d4",
   "metadata": {},
   "outputs": [],
   "source": [
    "values = [591, 641, 691, 741, 791]\n",
    "table = vonB_sigma_data\n",
    "col = 'sd'\n",
    "row = 0\n",
    "name = '$\\sigma_G$'\n",
    "\n",
    "sens_a, sens_b, sens_c = calculate_sensitivities(table, col, row, values, .01)\n",
    "graph_results(sens_a, sens_b, sens_c, name, values, start_at=10, filename='growth_sd_sensitivity')"
   ]
  },
  {
   "cell_type": "markdown",
   "id": "de6116ec-1ac9-49f6-989e-32581424501f",
   "metadata": {},
   "source": [
    "## $\\beta_s$"
   ]
  },
  {
   "cell_type": "code",
   "execution_count": null,
   "id": "5478fc2b-1880-4249-a702-9263b34fe3b1",
   "metadata": {},
   "outputs": [],
   "source": [
    "values = [591, 641, 691, 741, 791]\n",
    "table = vonB_sigma_data\n",
    "col = 'sd'\n",
    "row = 0\n",
    "name = '$\\sigma_G$'\n",
    "\n",
    "sens_a, sens_b, sens_c = calculate_sensitivities(table, col, row, values, .01)\n",
    "graph_results(sens_a, sens_b, sens_c, name, values, start_at=10, filename='growth_sd_sensitivity')"
   ]
  },
  {
   "cell_type": "markdown",
   "id": "17d1938b-db60-421c-a5ee-9d36a1d0c171",
   "metadata": {},
   "source": [
    "## $e_{max}$"
   ]
  },
  {
   "cell_type": "code",
   "execution_count": null,
   "id": "6ffaaeab-875e-476e-8652-003aa56fa10c",
   "metadata": {},
   "outputs": [],
   "source": [
    "values = [591, 641, 691, 741, 791]\n",
    "table = vonB_sigma_data\n",
    "col = 'sd'\n",
    "row = 0\n",
    "name = '$\\sigma_G$'\n",
    "\n",
    "sens_a, sens_b, sens_c = calculate_sensitivities(table, col, row, values, .01)\n",
    "graph_results(sens_a, sens_b, sens_c, name, values, start_at=10, filename='growth_sd_sensitivity')"
   ]
  },
  {
   "cell_type": "markdown",
   "id": "028b3e5c-95f2-4c94-acfb-a5c65ebb4add",
   "metadata": {},
   "source": [
    "## $\\alpha_e$"
   ]
  },
  {
   "cell_type": "code",
   "execution_count": null,
   "id": "e8b2d304-a256-45ae-9d03-78b786af9451",
   "metadata": {},
   "outputs": [],
   "source": [
    "values = [591, 641, 691, 741, 791]\n",
    "table = vonB_sigma_data\n",
    "col = 'sd'\n",
    "row = 0\n",
    "name = '$\\sigma_G$'\n",
    "\n",
    "sens_a, sens_b, sens_c = calculate_sensitivities(table, col, row, values, .01)\n",
    "graph_results(sens_a, sens_b, sens_c, name, values, start_at=10, filename='growth_sd_sensitivity')"
   ]
  },
  {
   "cell_type": "markdown",
   "id": "fcaf4e9e-7dfb-4d83-81dd-45151d2a836f",
   "metadata": {},
   "source": [
    "## $\\beta_e$"
   ]
  },
  {
   "cell_type": "code",
   "execution_count": null,
   "id": "b944b149-9111-4998-9ce6-9ca9b85bc9f4",
   "metadata": {},
   "outputs": [],
   "source": [
    "values = [591, 641, 691, 741, 791]\n",
    "table = vonB_sigma_data\n",
    "col = 'sd'\n",
    "row = 0\n",
    "name = '$\\sigma_G$'\n",
    "\n",
    "sens_a, sens_b, sens_c = calculate_sensitivities(table, col, row, values, .01)\n",
    "graph_results(sens_a, sens_b, sens_c, name, values, start_at=10, filename='growth_sd_sensitivity')"
   ]
  },
  {
   "cell_type": "markdown",
   "id": "4c6d806d-6fcd-4ad5-a4aa-2e44134ec00d",
   "metadata": {},
   "source": [
    "## $v$"
   ]
  },
  {
   "cell_type": "code",
   "execution_count": null,
   "id": "80d62878-0ad3-459e-a3fd-71ecf1dc13ee",
   "metadata": {},
   "outputs": [],
   "source": [
    "values = [591, 641, 691, 741, 791]\n",
    "table = vonB_sigma_data\n",
    "col = 'sd'\n",
    "row = 0\n",
    "name = '$\\sigma_G$'\n",
    "\n",
    "sens_a, sens_b, sens_c = calculate_sensitivities(table, col, row, values, .01)\n",
    "graph_results(sens_a, sens_b, sens_c, name, values, start_at=10, filename='growth_sd_sensitivity')"
   ]
  },
  {
   "cell_type": "markdown",
   "id": "427a6fa1-2331-4804-8456-c0375ca0a9cd",
   "metadata": {},
   "source": [
    "## $m_{ab}$"
   ]
  },
  {
   "cell_type": "code",
   "execution_count": null,
   "id": "e6fbd795-9293-4350-a5c0-ff6e7c45a9a4",
   "metadata": {},
   "outputs": [],
   "source": [
    "values = [591, 641, 691, 741, 791]\n",
    "table = vonB_sigma_data\n",
    "col = 'sd'\n",
    "row = 0\n",
    "name = '$\\sigma_G$'\n",
    "\n",
    "sens_a, sens_b, sens_c = calculate_sensitivities(table, col, row, values, .01)\n",
    "graph_results(sens_a, sens_b, sens_c, name, values, start_at=10, filename='growth_sd_sensitivity')"
   ]
  },
  {
   "cell_type": "markdown",
   "id": "0e722cc7-a165-4a60-8277-93cc5abd3830",
   "metadata": {},
   "source": [
    "## $m_{ac}$"
   ]
  },
  {
   "cell_type": "code",
   "execution_count": null,
   "id": "13664d4b-63c6-4b9b-b65d-3e2de0d80ae7",
   "metadata": {},
   "outputs": [],
   "source": [
    "values = [591, 641, 691, 741, 791]\n",
    "table = vonB_sigma_data\n",
    "col = 'sd'\n",
    "row = 0\n",
    "name = '$\\sigma_G$'\n",
    "\n",
    "sens_a, sens_b, sens_c = calculate_sensitivities(table, col, row, values, .01)\n",
    "graph_results(sens_a, sens_b, sens_c, name, values, start_at=10, filename='growth_sd_sensitivity')"
   ]
  },
  {
   "cell_type": "markdown",
   "id": "20301a4e-ae56-4c85-99f0-aff3deeba8f6",
   "metadata": {},
   "source": [
    "## $m_{ba}$"
   ]
  },
  {
   "cell_type": "code",
   "execution_count": null,
   "id": "b0f83065-afde-4f00-bcb7-d36fdd132569",
   "metadata": {},
   "outputs": [],
   "source": [
    "values = [591, 641, 691, 741, 791]\n",
    "table = vonB_sigma_data\n",
    "col = 'sd'\n",
    "row = 0\n",
    "name = '$\\sigma_G$'\n",
    "\n",
    "sens_a, sens_b, sens_c = calculate_sensitivities(table, col, row, values, .01)\n",
    "graph_results(sens_a, sens_b, sens_c, name, values, start_at=10, filename='growth_sd_sensitivity')"
   ]
  },
  {
   "cell_type": "markdown",
   "id": "b8db34c4-3410-420a-844e-6da2ca246a7d",
   "metadata": {},
   "source": [
    "## $m_{bc}$"
   ]
  },
  {
   "cell_type": "code",
   "execution_count": null,
   "id": "363e160c-e046-49fd-b249-4f74d89a16a2",
   "metadata": {},
   "outputs": [],
   "source": [
    "values = [591, 641, 691, 741, 791]\n",
    "table = vonB_sigma_data\n",
    "col = 'sd'\n",
    "row = 0\n",
    "name = '$\\sigma_G$'\n",
    "\n",
    "sens_a, sens_b, sens_c = calculate_sensitivities(table, col, row, values, .01)\n",
    "graph_results(sens_a, sens_b, sens_c, name, values, start_at=10, filename='growth_sd_sensitivity')"
   ]
  },
  {
   "cell_type": "markdown",
   "id": "23e28d5e-5b0b-421a-a36e-4777e1a4c159",
   "metadata": {},
   "source": [
    "## $m_{ca}$"
   ]
  },
  {
   "cell_type": "code",
   "execution_count": null,
   "id": "cd997564-626b-4f1d-bd1c-64700e0e21ef",
   "metadata": {},
   "outputs": [],
   "source": [
    "values = [591, 641, 691, 741, 791]\n",
    "table = vonB_sigma_data\n",
    "col = 'sd'\n",
    "row = 0\n",
    "name = '$\\sigma_G$'\n",
    "\n",
    "sens_a, sens_b, sens_c = calculate_sensitivities(table, col, row, values, .01)\n",
    "graph_results(sens_a, sens_b, sens_c, name, values, start_at=10, filename='growth_sd_sensitivity')"
   ]
  },
  {
   "cell_type": "markdown",
   "id": "cda2ffe7-230a-4787-bf8d-b30475a89fe7",
   "metadata": {},
   "source": [
    "## $m_{cb}$"
   ]
  },
  {
   "cell_type": "code",
   "execution_count": null,
   "id": "9a2ebb8f-750d-42f8-9b6e-978daaf73db6",
   "metadata": {},
   "outputs": [],
   "source": [
    "values = [591, 641, 691, 741, 791]\n",
    "table = vonB_sigma_data\n",
    "col = 'sd'\n",
    "row = 0\n",
    "name = '$\\sigma_G$'\n",
    "\n",
    "sens_a, sens_b, sens_c = calculate_sensitivities(table, col, row, values, .01)\n",
    "graph_results(sens_a, sens_b, sens_c, name, values, start_at=10, filename='growth_sd_sensitivity')"
   ]
  },
  {
   "cell_type": "code",
   "execution_count": null,
   "id": "f2293a7a-c30a-4b3b-b3ac-986f21895ba5",
   "metadata": {},
   "outputs": [],
   "source": []
  },
  {
   "cell_type": "code",
   "execution_count": null,
   "id": "201c60f3-5b11-42ee-acb4-22fdba996778",
   "metadata": {},
   "outputs": [],
   "source": []
  }
 ],
 "metadata": {
  "kernelspec": {
   "display_name": "Python 3",
   "language": "python",
   "name": "python3"
  },
  "language_info": {
   "codemirror_mode": {
    "name": "ipython",
    "version": 3
   },
   "file_extension": ".py",
   "mimetype": "text/x-python",
   "name": "python",
   "nbconvert_exporter": "python",
   "pygments_lexer": "ipython3",
   "version": "3.7.6"
  }
 },
 "nbformat": 4,
 "nbformat_minor": 5
}
