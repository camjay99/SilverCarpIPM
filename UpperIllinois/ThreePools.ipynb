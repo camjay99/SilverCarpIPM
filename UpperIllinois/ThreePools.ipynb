{
 "cells": [
  {
   "cell_type": "markdown",
   "id": "af27dbf6-da9a-4cd8-aaca-24db57d246eb",
   "metadata": {},
   "source": [
    "# Developing a three pool model"
   ]
  },
  {
   "cell_type": "markdown",
   "id": "8c80b77a-919e-453d-9d7c-37962e8dc743",
   "metadata": {},
   "source": [
    "## Imports and Load Data"
   ]
  },
  {
   "cell_type": "code",
   "execution_count": 1,
   "id": "4f640f47-c5fc-4b83-ac39-e7ce1ac31f1b",
   "metadata": {},
   "outputs": [],
   "source": [
    "import pandas as pd\n",
    "import numpy as np\n",
    "import sys, os\n",
    "import scipy.stats as stats\n",
    "import matplotlib.pyplot as plt\n",
    "import seaborn as sns\n",
    "from MetaIPM import network\n",
    "from MetaIPM import populated_network\n",
    "from MetaIPM import stochastic_wrapper as sw\n",
    "from MetaIPM import summarize_outputs as so\n",
    "from MetaIPM import recruitment\n",
    "import matplotlib as mpl\n",
    "import cycler\n",
    "\n",
    "data_file_path = \"./ModelData/\"\n",
    "graphics = \"./Graphics/\""
   ]
  },
  {
   "cell_type": "code",
   "execution_count": 2,
   "id": "30871d8f-4cda-496c-afc1-deabfd46310a",
   "metadata": {},
   "outputs": [],
   "source": [
    "network_file = \"network.csv\"\n",
    "transition_probs = \"psi2.csv\"\n",
    "transition_key = \"psi_key2.csv\"\n",
    "node_file = \"node.csv\"\n",
    "group_file = \"group_details.csv\"\n",
    "lw_file = \"LW_Pool.csv\"\n",
    "vonB_file = \"vonB.csv\"\n",
    "vonB_sigma_file = \"vonB_sigma.csv\"\n",
    "maturity_file = \"maturity.csv\""
   ]
  },
  {
   "cell_type": "code",
   "execution_count": 3,
   "id": "082ee641-84f2-4919-a03b-abbb2283fa0d",
   "metadata": {},
   "outputs": [],
   "source": [
    "network_data = pd.read_csv(data_file_path + network_file)\n",
    "transition_data = pd.read_csv(data_file_path  + transition_probs)\n",
    "transition_key_data = pd.read_csv(data_file_path  + transition_key)\n",
    "node_data = pd.read_csv(data_file_path + node_file)\n",
    "group_data = pd.read_csv(data_file_path + group_file)\n",
    "lw_data = pd.read_csv(data_file_path + lw_file)\n",
    "vonB_data = pd.read_csv(data_file_path + vonB_file)\n",
    "vonB_sigma_data = pd.read_csv(data_file_path + vonB_sigma_file)\n",
    "maturity_data = pd.read_csv(data_file_path + maturity_file)"
   ]
  },
  {
   "cell_type": "markdown",
   "id": "756d78fc-f725-413f-ba18-323f8c977be0",
   "metadata": {},
   "source": [
    "## Utility Functions for Creating and Running Models"
   ]
  },
  {
   "cell_type": "code",
   "execution_count": 4,
   "id": "92426fd7-a4ef-4cb2-963a-4670ff83bb46",
   "metadata": {},
   "outputs": [],
   "source": [
    "def make_model():\n",
    "    '''\n",
    "    Creates a model using the global parameter dataframes.\n",
    "    \n",
    "    Returns:\n",
    "    (populated_network): A network representing the model described in the global parameter dataframes\n",
    "    '''\n",
    "    deterministic_model = populated_network.populate_network_from_csv(\n",
    "        network_data = network_data,\n",
    "        transition_data = transition_data,\n",
    "        transition_key_data = transition_key_data,\n",
    "        node_data = node_data,\n",
    "        group_data = group_data,\n",
    "        lw_data = lw_data,\n",
    "        vonB_data = vonB_data,\n",
    "        vonB_sigma_data = vonB_sigma_data,\n",
    "        maturity_data = maturity_data,\n",
    "        stochastic_spawn = False,\n",
    "        stochastic_pars = False\n",
    "        ).show_network()\n",
    "    return deterministic_model"
   ]
  },
  {
   "cell_type": "code",
   "execution_count": 5,
   "id": "3cea62bf-5a5a-494f-81b7-f672fce6b907",
   "metadata": {},
   "outputs": [],
   "source": [
    "def extract_population(model):\n",
    "    '''\n",
    "    Extracts the populations counts for each year and node from a model\n",
    "    \n",
    "    Parameters:\n",
    "    model (populated_network): Network to extract population counts from\n",
    "    \n",
    "    Returns:\n",
    "    (DataFrame): Table containing year, population, and node.\n",
    "    '''\n",
    "    out_all = so.extract_all_populations(model)\n",
    "    out_all = out_all[out_all[\"Year\"] < out_all[\"Year\"].max()]\n",
    "\n",
    "    out_by_node = out_all.groupby(['Year','Month','Node'])[['Population']].sum().reset_index()\n",
    "    out_by_node[\"Months\"] = out_by_node[\"Month\"] + out_by_node[\"Year\"]\n",
    "    out_by_node = out_by_node[out_by_node[\"Month\"] == 0]\n",
    "    out_by_node['Years'] = out_by_node['Months']\n",
    "    \n",
    "    return out_by_node[['Years', 'Population', 'Node']]"
   ]
  },
  {
   "cell_type": "markdown",
   "id": "0d2534a9-9219-48c7-9119-8556cc490b0f",
   "metadata": {},
   "source": [
    "## Rate Setting Functions"
   ]
  },
  {
   "cell_type": "code",
   "execution_count": 6,
   "id": "c6149a37-ab85-48be-931f-0f3189a663a8",
   "metadata": {},
   "outputs": [],
   "source": [
    "def set_harvesting(poola_rate, poolb_rate, poolc_rate):\n",
    "    mask = node_data['Pool'] == 'a'\n",
    "    node_data.loc[mask, 'harvest_max'] = poola_rate\n",
    "    mask = node_data['Pool'] == 'b'\n",
    "    node_data.loc[mask, 'harvest_max'] = poolb_rate\n",
    "    mask = node_data['Pool'] == 'c'\n",
    "    node_data.loc[mask, 'harvest_max'] = poolc_rate"
   ]
  },
  {
   "cell_type": "code",
   "execution_count": 7,
   "id": "9e98f86c-3d33-4549-ba39-acf9bfeb5fc8",
   "metadata": {},
   "outputs": [],
   "source": [
    "def modify_migration(reduction_rate):\n",
    "    transition_data[:,0] *= reduction_rate"
   ]
  },
  {
   "cell_type": "markdown",
   "id": "bb9bf75f-49da-4913-a905-c5964b043062",
   "metadata": {},
   "source": [
    "## Graphing Function"
   ]
  },
  {
   "cell_type": "code",
   "execution_count": 8,
   "id": "fd972725-7b5a-4ebf-a6a0-ea9ec7ee0f12",
   "metadata": {},
   "outputs": [],
   "source": [
    "def graph_results(scenarios, labels, folder, title, control_scen=None, control_label='', label_title=''):\n",
    "    n = len(scenarios)\n",
    "    color = plt.cm.viridis(np.linspace(0.1,0.9,n)) # This returns RGBA; convert:\n",
    "    mpl.rcParams['axes.prop_cycle'] = cycler.cycler('color', color)\n",
    "    \n",
    "    # Plot Nodes\n",
    "    fig, axs = plt.subplots(1, 3, sharey=True,\n",
    "                           subplot_kw={'box_aspect':1},\n",
    "                           gridspec_kw={'wspace':0.05})\n",
    "    plt.style.use('seaborn-whitegrid')\n",
    "    \n",
    "    ## Starved Rock\n",
    "    plt.sca(axs[0])\n",
    "    if control_scen is not None:\n",
    "        sc = control_scen\n",
    "        a = sc[sc['Node'] == 'c']\n",
    "        plt.plot(a['Years'], a['Population']/1_000_000, label=control_label, linestyle='dotted', color='black')\n",
    "    for i in range(len(scenarios)):\n",
    "        sc = scenarios[i]\n",
    "        a = sc[sc['Node'] == 'c']\n",
    "        plt.plot(a['Years'], a['Population']/1_000_000, label=labels[i])\n",
    "    plt.ylim(0, 1.25)\n",
    "    plt.title('Starved Rock', fontsize=15)\n",
    "    plt.xlabel('Years', fontsize=15)\n",
    "    plt.ylabel('Population (millions)', fontsize=15)\n",
    "    #plt.yticks([0, 100_000, 200_000, 300_000, 400_000],\n",
    "    #           ['0', '100,000', '200,000', '300,000', '400,000'])\n",
    "    \n",
    "    \n",
    "    ## Marseilles\n",
    "    plt.sca(axs[1])\n",
    "    if control_scen is not None:\n",
    "        sc = control_scen\n",
    "        a = sc[sc['Node'] == 'b']\n",
    "        plt.plot(a['Years'], a['Population']/1_000_000, linestyle='dotted', color='black')\n",
    "    for i in range(len(scenarios)):\n",
    "        sc = scenarios[i]\n",
    "        b = sc[sc['Node'] == 'b']\n",
    "        plt.plot(b['Years'], b['Population']/1_000_000)\n",
    "    plt.title('Marseilles', fontsize=15)\n",
    "    plt.xlabel('Years', fontsize=15)\n",
    "    plt.ylabel('Population', fontsize=15)\n",
    "    axs[1].label_outer()\n",
    "    \n",
    "    ## Dresden Island\n",
    "    plt.sca(axs[2])\n",
    "    if control_scen is not None:\n",
    "        sc = control_scen\n",
    "        a = sc[sc['Node'] == 'a']\n",
    "        plt.plot(a['Years'], a['Population']/1_000_000, linestyle='dotted', color='black')\n",
    "    for i in range(len(scenarios)):\n",
    "        sc = scenarios[i]\n",
    "        b = sc[sc['Node'] == 'a']\n",
    "        plt.plot(b['Years'], b['Population']/1_000_000)\n",
    "    plt.title('Dresden Island', fontsize=15)\n",
    "    plt.xlabel('Years', fontsize=15)\n",
    "    plt.ylabel('Population', fontsize=15)\n",
    "    axs[2].label_outer()\n",
    "\n",
    "    ## General\n",
    "    plt.suptitle(title, fontsize=20)\n",
    "    plt.subplots_adjust(top=1.2, right=0.77)\n",
    "    #plt.ylim(0, 400000000000)\n",
    "    fig.legend(frameon=True, loc='center right', title=label_title)\n",
    "    plt.savefig(f'{folder}/{title}.svg', bbox_inches='tight')\n",
    "    plt.show()"
   ]
  },
  {
   "cell_type": "markdown",
   "id": "f635e005-aea6-4245-ba87-af5ad496c973",
   "metadata": {},
   "source": [
    "# Test Migration Rescue Effects"
   ]
  },
  {
   "cell_type": "code",
   "execution_count": 9,
   "id": "ccd24215-615d-4475-ba0c-a4407b0e82b0",
   "metadata": {},
   "outputs": [],
   "source": [
    "def test_model():\n",
    "    model = make_model()\n",
    "    model.project_network()\n",
    "    results = extract_population(model)\n",
    "    return results, model"
   ]
  },
  {
   "cell_type": "markdown",
   "id": "9cc60bfe-05b2-40e5-9c9c-9b340f59ae28",
   "metadata": {},
   "source": [
    "## Limit migration and focus harvesting Starved Rock"
   ]
  },
  {
   "cell_type": "code",
   "execution_count": 10,
   "id": "a9935448-ce10-4f84-add3-8e8fe5f7d938",
   "metadata": {},
   "outputs": [],
   "source": [
    "def test_mig_harv(red_rate, h_a):\n",
    "    # Modify Migration Rates\n",
    "    orig_mac = transition_data.loc[0, 'a-c']\n",
    "    orig_mba = transition_data.loc[0, 'b-a']\n",
    "    orig_mca = transition_data.loc[0, 'c-a']\n",
    "    orig_mab = transition_data.loc[0, 'a-b']\n",
    "    transition_data.loc[0, 'a-c'] = orig_mac * red_rate\n",
    "    transition_data.loc[0, 'b-a'] = orig_mba * red_rate\n",
    "    transition_data.loc[0, 'c-a'] = orig_mca * red_rate\n",
    "    transition_data.loc[0, 'a-b'] = orig_mab * red_rate\n",
    "    \n",
    "    # Modify Harvest Rates\n",
    "    mask = node_data['Pool'] == 'a'\n",
    "    node_data.loc[mask, 'harvest_max'] = h_a*2\n",
    "    \n",
    "    results, model = test_model()\n",
    "    \n",
    "    # Clean up\n",
    "    transition_data.loc[0, 'a-c'] = orig_mac\n",
    "    transition_data.loc[0, 'b-a'] = orig_mba\n",
    "    transition_data.loc[0, 'c-a'] = orig_mca\n",
    "    transition_data.loc[0, 'a-b'] = orig_mab\n",
    "    node_data.loc[mask, 'harvest_max'] = 0\n",
    "    return results, model"
   ]
  },
  {
   "cell_type": "code",
   "execution_count": 11,
   "id": "9238a8a6-7b7e-4c43-87fe-89532f066c20",
   "metadata": {},
   "outputs": [
    {
     "name": "stderr",
     "output_type": "stream",
     "text": [
      "C:\\Users\\Cameron\\anaconda3\\lib\\site-packages\\metaipm_rerickson_usgs-1.0.0-py3.7.egg\\MetaIPM\\network.py:173: FutureWarning: Dropping of nuisance columns in DataFrame reductions (with 'numeric_only=None') is deprecated; in a future version this will raise TypeError.  Select only valid columns before calling the reduction.\n",
      "C:\\Users\\Cameron\\anaconda3\\lib\\site-packages\\metaipm_rerickson_usgs-1.0.0-py3.7.egg\\MetaIPM\\node.py:104: FutureWarning: Dropping of nuisance columns in DataFrame reductions (with 'numeric_only=None') is deprecated; in a future version this will raise TypeError.  Select only valid columns before calling the reduction.\n"
     ]
    },
    {
     "data": {
      "image/png": "[encoded data removed]",
      "text/plain": [
       "<Figure size 432x288 with 3 Axes>"
      ]
     },
     "metadata": {},
     "output_type": "display_data"
    }
   ],
   "source": [
    "scenarios = []\n",
    "models = []\n",
    "labels = []\n",
    "for red_rate in [0, 0.25, 0.5, 0.75, 1]:\n",
    "    scen, model = test_mig_harv(red_rate, 0.2)\n",
    "    scenarios.append(scen)\n",
    "    models.append(scen)\n",
    "    labels.append(f'{red_rate*100}%')\n",
    "graph_results(scenarios, labels, 'Graphics', 'Targeted harvesting of Dresden Island', label_title='% Migration')"
   ]
  },
  {
   "cell_type": "markdown",
   "id": "0390e6ca-285c-4820-b698-d81642c71392",
   "metadata": {},
   "source": [
    "# Test Impacts of harvesting in Starved Rock on other populations"
   ]
  },
  {
   "cell_type": "code",
   "execution_count": 12,
   "id": "2ab2493b-afb3-4f8d-ae51-15627cb13a0b",
   "metadata": {},
   "outputs": [],
   "source": [
    "def test_starved_harvesting(s_harv):\n",
    "    mask = node_data['Pool'] == 'c'\n",
    "    node_data.loc[mask, 'harvest_max'] = s_harv*2\n",
    "    \n",
    "    results, model = test_model()\n",
    "    \n",
    "    node_data.loc[mask, 'harvest_max'] = 0\n",
    "    \n",
    "    return results, model"
   ]
  },
  {
   "cell_type": "code",
   "execution_count": 13,
   "id": "cc05432b-5f0f-41ce-9cf6-aa53060adc92",
   "metadata": {},
   "outputs": [
    {
     "name": "stderr",
     "output_type": "stream",
     "text": [
      "C:\\Users\\Cameron\\anaconda3\\lib\\site-packages\\metaipm_rerickson_usgs-1.0.0-py3.7.egg\\MetaIPM\\network.py:173: FutureWarning: Dropping of nuisance columns in DataFrame reductions (with 'numeric_only=None') is deprecated; in a future version this will raise TypeError.  Select only valid columns before calling the reduction.\n",
      "C:\\Users\\Cameron\\anaconda3\\lib\\site-packages\\metaipm_rerickson_usgs-1.0.0-py3.7.egg\\MetaIPM\\node.py:104: FutureWarning: Dropping of nuisance columns in DataFrame reductions (with 'numeric_only=None') is deprecated; in a future version this will raise TypeError.  Select only valid columns before calling the reduction.\n"
     ]
    },
    {
     "data": {
      "image/png": "[encoded data removed]",
      "text/plain": [
       "<Figure size 432x288 with 3 Axes>"
      ]
     },
     "metadata": {},
     "output_type": "display_data"
    }
   ],
   "source": [
    "scenarios = []\n",
    "models = []\n",
    "labels = []\n",
    "for s_harv in [0, 0.1, 0.2, 0.3, 0.4]:\n",
    "    scen, model = test_starved_harvesting(s_harv)\n",
    "    scenarios.append(scen)\n",
    "    models.append(scen)\n",
    "    labels.append(f'{s_harv*100}%')\n",
    "graph_results(scenarios, labels, 'Graphics', 'Impacts of harvesting Starved Rock', label_title='Harvest Rate')"
   ]
  },
  {
   "cell_type": "code",
   "execution_count": null,
   "id": "c697b745-a127-4546-b1ae-ccaa6f7cf1d4",
   "metadata": {},
   "outputs": [],
   "source": []
  },
  {
   "cell_type": "code",
   "execution_count": null,
   "id": "1631ebdb-be3b-4bce-a2fe-30b496019cce",
   "metadata": {},
   "outputs": [],
   "source": []
  }
 ],
 "metadata": {
  "kernelspec": {
   "display_name": "Python 3",
   "language": "python",
   "name": "python3"
  },
  "language_info": {
   "codemirror_mode": {
    "name": "ipython",
    "version": 3
   },
   "file_extension": ".py",
   "mimetype": "text/x-python",
   "name": "python",
   "nbconvert_exporter": "python",
   "pygments_lexer": "ipython3",
   "version": "3.7.6"
  }
 },
 "nbformat": 4,
 "nbformat_minor": 5
}
