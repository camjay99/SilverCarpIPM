{
 "cells": [
  {
   "cell_type": "markdown",
   "id": "7285b9ff-085e-4eff-a5f0-d62c506fa954",
   "metadata": {},
   "source": [
    "# Calculating Parameters:"
   ]
  },
  {
   "cell_type": "code",
   "execution_count": 1,
   "id": "e4e5f896-abcf-4b06-a67d-d9e99d250fb7",
   "metadata": {},
   "outputs": [],
   "source": [
    "from MetaIPM import utilities\n",
    "import pandas as pd"
   ]
  },
  {
   "cell_type": "code",
   "execution_count": 2,
   "id": "33f9f94b-1213-4b0d-899d-76224280f04b",
   "metadata": {},
   "outputs": [],
   "source": [
    "data_file_path = \"./ModelData/\"\n",
    "transition_probs = \"psi.csv\"\n",
    "transition_key = \"psi_key.csv\"\n",
    "transition_data = pd.read_csv(data_file_path  + transition_probs)\n",
    "transition_key_data = pd.read_csv(data_file_path  + transition_key)"
   ]
  },
  {
   "cell_type": "code",
   "execution_count": 3,
   "id": "257c24bc-f885-4798-8f22-6e14765d1d56",
   "metadata": {},
   "outputs": [],
   "source": [
    "new_keys, new_data = utilities.project_migration(transition_key_data, transition_data, n_periods=12)"
   ]
  },
  {
   "cell_type": "code",
   "execution_count": 6,
   "id": "06670bc5-1a6d-482e-904f-d09a8675b6e1",
   "metadata": {},
   "outputs": [],
   "source": [
    "new_keys.to_csv(data_file_path + \"psi_key2.csv\")"
   ]
  },
  {
   "cell_type": "code",
   "execution_count": 7,
   "id": "3b93713d-fe53-4d65-9cb4-b27392a384ac",
   "metadata": {},
   "outputs": [],
   "source": [
    "new_data.to_csv(data_file_path + \"psi2.csv\")"
   ]
  }
 ],
 "metadata": {
  "kernelspec": {
   "display_name": "Python 3",
   "language": "python",
   "name": "python3"
  },
  "language_info": {
   "codemirror_mode": {
    "name": "ipython",
    "version": 3
   },
   "file_extension": ".py",
   "mimetype": "text/x-python",
   "name": "python",
   "nbconvert_exporter": "python",
   "pygments_lexer": "ipython3",
   "version": "3.7.6"
  }
 },
 "nbformat": 4,
 "nbformat_minor": 5
}
